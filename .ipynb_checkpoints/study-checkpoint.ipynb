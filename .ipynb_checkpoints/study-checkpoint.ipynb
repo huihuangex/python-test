{
 "cells": [
  {
   "cell_type": "code",
   "execution_count": 2,
   "id": "f73fb235",
   "metadata": {},
   "outputs": [
    {
     "name": "stdout",
     "output_type": "stream",
     "text": [
      "hello world\n"
     ]
    }
   ],
   "source": [
    "print(\"hello world\")"
   ]
  },
  {
   "cell_type": "code",
   "execution_count": 1,
   "id": "1d22860c",
   "metadata": {},
   "outputs": [
    {
     "name": "stdout",
     "output_type": "stream",
     "text": [
      "Package                       VersionNote: you may need to restart the kernel to use updated packages.\n",
      "\n",
      "----------------------------- -----------\n",
      "aiofiles                      22.1.0\n",
      "aiosqlite                     0.18.0\n",
      "anaconda-client               1.12.0\n",
      "anaconda-navigator            2.4.2\n",
      "anyio                         3.5.0\n",
      "argon2-cffi                   21.3.0\n",
      "argon2-cffi-bindings          21.2.0\n",
      "asttokens                     2.0.5\n",
      "attrs                         22.1.0\n",
      "Babel                         2.11.0\n",
      "backcall                      0.2.0\n",
      "backports.functools-lru-cache 1.6.4\n",
      "backports.tempfile            1.0\n",
      "backports.weakref             1.0.post1\n",
      "beautifulsoup4                4.12.2\n",
      "bleach                        4.1.0\n",
      "boltons                       23.0.0\n",
      "brotlipy                      0.7.0\n",
      "certifi                       2023.7.22\n",
      "cffi                          1.15.1\n",
      "chardet                       3.0.4\n",
      "charset-normalizer            2.0.4\n",
      "click                         8.0.4\n",
      "clyent                        1.2.2\n",
      "colorama                      0.4.6\n",
      "comm                          0.1.2\n",
      "conda                         23.7.2\n",
      "conda-build                   3.26.0\n",
      "conda-content-trust           0+unknown\n",
      "conda_index                   0.2.3\n",
      "conda-package-handling        2.2.0\n",
      "conda_package_streaming       0.9.0\n",
      "conda-repo-cli                1.0.41\n",
      "conda-token                   0.4.0\n",
      "conda-verify                  3.4.2\n",
      "cryptography                  41.0.2\n",
      "debugpy                       1.6.7\n",
      "decorator                     5.1.1\n",
      "defusedxml                    0.7.1\n",
      "entrypoints                   0.4\n",
      "executing                     0.8.3\n",
      "fastjsonschema                2.16.2\n",
      "filelock                      3.9.0\n",
      "future                        0.18.3\n",
      "glob2                         0.7\n",
      "graphviz                      0.8.4\n",
      "idna                          2.6\n",
      "importlib-metadata            6.0.0\n",
      "importlib-resources           5.2.0\n",
      "ipykernel                     6.25.0\n",
      "ipython                       8.12.0\n",
      "ipython-genutils              0.2.0\n",
      "jedi                          0.18.1\n",
      "Jinja2                        3.1.2\n",
      "json5                         0.9.6\n",
      "jsonpatch                     1.32\n",
      "jsonpointer                   2.1\n",
      "jsonschema                    4.17.3\n",
      "jupyter_client                7.4.9\n",
      "jupyter_core                  5.3.0\n",
      "jupyter-events                0.6.3\n",
      "jupyter-server                1.23.4\n",
      "jupyter_server_fileid         0.9.0\n",
      "jupyter_server_ydoc           0.8.0\n",
      "jupyter-ydoc                  0.2.4\n",
      "jupyterlab                    3.6.3\n",
      "jupyterlab-pygments           0.1.2\n",
      "jupyterlab_server             2.22.0\n",
      "libarchive-c                  2.9\n",
      "lxml                          4.9.2\n",
      "MarkupSafe                    2.1.1\n",
      "matplotlib-inline             0.1.6\n",
      "menuinst                      1.4.19\n",
      "mistune                       0.8.4\n",
      "more-itertools                8.12.0\n",
      "mxnet                         1.7.0.post2\n",
      "navigator-updater             0.4.0\n",
      "nbclassic                     0.5.5\n",
      "nbclient                      0.5.13\n",
      "nbconvert                     6.5.4\n",
      "nbformat                      5.7.0\n",
      "nest-asyncio                  1.5.6\n",
      "notebook                      6.5.4\n",
      "notebook_shim                 0.2.2\n",
      "numpy                         1.16.6\n",
      "packaging                     23.0\n",
      "pandocfilters                 1.5.0\n",
      "parso                         0.8.3\n",
      "pathlib                       1.0.1\n",
      "pickleshare                   0.7.5\n",
      "Pillow                        9.4.0\n",
      "pip                           23.2.1\n",
      "pkginfo                       1.9.6\n",
      "pkgutil_resolve_name          1.3.10\n",
      "platformdirs                  2.5.2\n",
      "pluggy                        1.0.0\n",
      "ply                           3.11\n",
      "prometheus-client             0.14.1\n",
      "prompt-toolkit                3.0.36\n",
      "psutil                        5.9.0\n",
      "pure-eval                     0.2.2\n",
      "pycosat                       0.6.4\n",
      "pycparser                     2.21\n",
      "Pygments                      2.15.1\n",
      "PyJWT                         2.4.0\n",
      "pyOpenSSL                     23.2.0\n",
      "PyQt5                         5.15.7\n",
      "PyQt5-sip                     12.11.0\n",
      "pyrsistent                    0.18.0\n",
      "PySocks                       1.7.1\n",
      "python-dateutil               2.8.2\n",
      "python-dotenv                 1.0.0\n",
      "python-json-logger            2.0.7\n",
      "pytz                          2022.7\n",
      "pywin32                       305.1\n",
      "pywinpty                      2.0.10\n",
      "PyYAML                        6.0\n",
      "pyzmq                         23.2.0\n",
      "QtPy                          2.2.0\n",
      "requests                      2.28.1\n",
      "requests-toolbelt             1.0.0\n",
      "rfc3339-validator             0.1.4\n",
      "rfc3986-validator             0.1.1\n",
      "ruamel.yaml                   0.17.21\n",
      "ruamel.yaml.clib              0.2.6\n",
      "Send2Trash                    1.8.0\n",
      "setuptools                    68.0.0\n",
      "sip                           6.6.2\n",
      "six                           1.16.0\n",
      "sniffio                       1.2.0\n",
      "soupsieve                     2.4\n",
      "stack-data                    0.2.0\n",
      "terminado                     0.17.1\n",
      "tinycss2                      1.2.1\n",
      "toml                          0.10.2\n",
      "tomli                         2.0.1\n",
      "toolz                         0.12.0\n",
      "tornado                       6.3.2\n",
      "tqdm                          4.65.0\n",
      "traitlets                     5.7.1\n",
      "typing_extensions             4.7.1\n",
      "ujson                         5.4.0\n",
      "urllib3                       1.22\n",
      "wcwidth                       0.2.5\n",
      "webencodings                  0.5.1\n",
      "websocket-client              0.58.0\n",
      "wheel                         0.38.4\n",
      "win-inet-pton                 1.1.0\n",
      "y-py                          0.5.9\n",
      "ypy-websocket                 0.8.2\n",
      "zipp                          3.11.0\n",
      "zstandard                     0.19.0\n"
     ]
    },
    {
     "name": "stderr",
     "output_type": "stream",
     "text": [
      "WARNING: Ignoring invalid distribution -ip (e:\\anaconda\\lib\\site-packages)\n"
     ]
    }
   ],
   "source": [
    "pip list"
   ]
  },
  {
   "cell_type": "code",
   "execution_count": 3,
   "id": "e35a1db1",
   "metadata": {
    "scrolled": false
   },
   "outputs": [
    {
     "ename": "NameError",
     "evalue": "name 'python' is not defined",
     "output_type": "error",
     "traceback": [
      "\u001b[1;31m---------------------------------------------------------------------------\u001b[0m",
      "\u001b[1;31mNameError\u001b[0m                                 Traceback (most recent call last)",
      "Cell \u001b[1;32mIn[3], line 1\u001b[0m\n\u001b[1;32m----> 1\u001b[0m \u001b[43mpython\u001b[49m\n",
      "\u001b[1;31mNameError\u001b[0m: name 'python' is not defined"
     ]
    }
   ],
   "source": [
    "python"
   ]
  },
  {
   "cell_type": "code",
   "execution_count": null,
   "id": "b0cb8af5",
   "metadata": {},
   "outputs": [],
   "source": []
  },
  {
   "cell_type": "code",
   "execution_count": null,
   "id": "6089df5d",
   "metadata": {},
   "outputs": [],
   "source": []
  }
 ],
 "metadata": {
  "kernelspec": {
   "display_name": "ceshi-py3.8",
   "language": "python",
   "name": "ceshi-py3.8"
  },
  "language_info": {
   "codemirror_mode": {
    "name": "ipython",
    "version": 3
   },
   "file_extension": ".py",
   "mimetype": "text/x-python",
   "name": "python",
   "nbconvert_exporter": "python",
   "pygments_lexer": "ipython3",
   "version": "3.8.16"
  }
 },
 "nbformat": 4,
 "nbformat_minor": 5
}
